{
  "nbformat": 4,
  "nbformat_minor": 0,
  "metadata": {
    "kernelspec": {
      "language": "python",
      "display_name": "Python 3",
      "name": "python3"
    },
    "language_info": {
      "pygments_lexer": "ipython3",
      "nbconvert_exporter": "python",
      "version": "3.6.4",
      "file_extension": ".py",
      "codemirror_mode": {
        "name": "ipython",
        "version": 3
      },
      "name": "python",
      "mimetype": "text/x-python"
    },
    "colab": {
      "name": "BTC-LSTM1.ipynp",
      "provenance": [],
      "collapsed_sections": []
    }
  },
  "cells": [
    {
      "cell_type": "code",
      "metadata": {
        "id": "NeWVBhf1VxlH"
      },
      "source": [
        "%tensorflow_version 2.x\n",
        "import json\n",
        "import requests\n",
        "from keras.models import Sequential\n",
        "from keras.layers import Activation, Dense, Dropout, LSTM\n",
        "import matplotlib.pyplot as plt\n",
        "import numpy as np\n",
        "import pandas as pd\n",
        "import seaborn as sns\n",
        "from sklearn.metrics import mean_absolute_error\n",
        "%matplotlib inline"
      ],
      "execution_count": null,
      "outputs": []
    },
    {
      "cell_type": "code",
      "metadata": {
        "_uuid": "d629ff2d2480ee46fbb7e2d37f6b5fab8052498a",
        "_cell_guid": "79c7e3d0-c299-4dcb-8224-4455121ee9b0",
        "trusted": true,
        "id": "6W__OM92pskF",
        "colab": {
          "base_uri": "https://localhost:8080/"
        },
        "outputId": "e031e44c-946d-4960-a51c-ae82a57b1ecb"
      },
      "source": [
        "endpoint = 'https://min-api.cryptocompare.com/data/histoday'\n",
        "res = requests.get(endpoint + '?fsym=BTC&tsym=USDT&limit=1200')\n",
        "# res = requests.get(endpoint + '?fsym=BTC&tsym=USDT')\n",
        "hist = pd.DataFrame(json.loads(res.content)['Data'])\n",
        "hist = hist.set_index('time')\n",
        "hist.index = pd.to_datetime(hist.index, unit='s')\n",
        "target_col = 'close'\n",
        "\n",
        "hist = hist[0:-20]\n",
        "hist.shape"
      ],
      "execution_count": null,
      "outputs": [
        {
          "output_type": "execute_result",
          "data": {
            "text/plain": [
              "(1181, 8)"
            ]
          },
          "metadata": {
            "tags": []
          },
          "execution_count": 195
        }
      ]
    },
    {
      "cell_type": "code",
      "metadata": {
        "id": "QQ9tRh3fs6wX",
        "colab": {
          "base_uri": "https://localhost:8080/",
          "height": 450
        },
        "outputId": "8b5c37a3-c830-43a6-957c-5bf119dced93"
      },
      "source": [
        "\n",
        "hist = hist[[\"high\",\"low\",\"open\",\"volumefrom\",\"volumeto\",\"close\"]]\n",
        "hist"
      ],
      "execution_count": null,
      "outputs": [
        {
          "output_type": "execute_result",
          "data": {
            "text/html": [
              "<div>\n",
              "<style scoped>\n",
              "    .dataframe tbody tr th:only-of-type {\n",
              "        vertical-align: middle;\n",
              "    }\n",
              "\n",
              "    .dataframe tbody tr th {\n",
              "        vertical-align: top;\n",
              "    }\n",
              "\n",
              "    .dataframe thead th {\n",
              "        text-align: right;\n",
              "    }\n",
              "</style>\n",
              "<table border=\"1\" class=\"dataframe\">\n",
              "  <thead>\n",
              "    <tr style=\"text-align: right;\">\n",
              "      <th></th>\n",
              "      <th>high</th>\n",
              "      <th>low</th>\n",
              "      <th>open</th>\n",
              "      <th>volumefrom</th>\n",
              "      <th>volumeto</th>\n",
              "      <th>close</th>\n",
              "    </tr>\n",
              "    <tr>\n",
              "      <th>time</th>\n",
              "      <th></th>\n",
              "      <th></th>\n",
              "      <th></th>\n",
              "      <th></th>\n",
              "      <th></th>\n",
              "      <th></th>\n",
              "    </tr>\n",
              "  </thead>\n",
              "  <tbody>\n",
              "    <tr>\n",
              "      <th>2017-08-13</th>\n",
              "      <td>4267.46</td>\n",
              "      <td>3906.60</td>\n",
              "      <td>3871.50</td>\n",
              "      <td>807.25</td>\n",
              "      <td>3.292236e+06</td>\n",
              "      <td>4078.33</td>\n",
              "    </tr>\n",
              "    <tr>\n",
              "      <th>2017-08-14</th>\n",
              "      <td>4480.13</td>\n",
              "      <td>4239.20</td>\n",
              "      <td>4078.33</td>\n",
              "      <td>888.18</td>\n",
              "      <td>3.783654e+06</td>\n",
              "      <td>4260.01</td>\n",
              "    </tr>\n",
              "    <tr>\n",
              "      <th>2017-08-15</th>\n",
              "      <td>4347.69</td>\n",
              "      <td>3928.81</td>\n",
              "      <td>4260.01</td>\n",
              "      <td>945.51</td>\n",
              "      <td>3.900897e+06</td>\n",
              "      <td>4125.71</td>\n",
              "    </tr>\n",
              "    <tr>\n",
              "      <th>2017-08-16</th>\n",
              "      <td>4396.62</td>\n",
              "      <td>4081.68</td>\n",
              "      <td>4125.71</td>\n",
              "      <td>682.27</td>\n",
              "      <td>2.980014e+06</td>\n",
              "      <td>4367.79</td>\n",
              "    </tr>\n",
              "    <tr>\n",
              "      <th>2017-08-17</th>\n",
              "      <td>4473.83</td>\n",
              "      <td>4212.32</td>\n",
              "      <td>4367.79</td>\n",
              "      <td>837.26</td>\n",
              "      <td>3.698963e+06</td>\n",
              "      <td>4417.94</td>\n",
              "    </tr>\n",
              "    <tr>\n",
              "      <th>...</th>\n",
              "      <td>...</td>\n",
              "      <td>...</td>\n",
              "      <td>...</td>\n",
              "      <td>...</td>\n",
              "      <td>...</td>\n",
              "      <td>...</td>\n",
              "    </tr>\n",
              "    <tr>\n",
              "      <th>2020-11-01</th>\n",
              "      <td>13875.68</td>\n",
              "      <td>13604.73</td>\n",
              "      <td>13779.68</td>\n",
              "      <td>136817.39</td>\n",
              "      <td>1.878636e+09</td>\n",
              "      <td>13740.64</td>\n",
              "    </tr>\n",
              "    <tr>\n",
              "      <th>2020-11-02</th>\n",
              "      <td>13810.59</td>\n",
              "      <td>13192.52</td>\n",
              "      <td>13740.64</td>\n",
              "      <td>178659.61</td>\n",
              "      <td>2.417876e+09</td>\n",
              "      <td>13548.77</td>\n",
              "    </tr>\n",
              "    <tr>\n",
              "      <th>2020-11-03</th>\n",
              "      <td>14051.42</td>\n",
              "      <td>13285.93</td>\n",
              "      <td>13548.77</td>\n",
              "      <td>99169.42</td>\n",
              "      <td>1.349849e+09</td>\n",
              "      <td>14008.25</td>\n",
              "    </tr>\n",
              "    <tr>\n",
              "      <th>2020-11-04</th>\n",
              "      <td>14241.65</td>\n",
              "      <td>13527.65</td>\n",
              "      <td>14008.25</td>\n",
              "      <td>113662.16</td>\n",
              "      <td>1.577900e+09</td>\n",
              "      <td>14130.56</td>\n",
              "    </tr>\n",
              "    <tr>\n",
              "      <th>2020-11-05</th>\n",
              "      <td>15726.03</td>\n",
              "      <td>14089.96</td>\n",
              "      <td>14130.56</td>\n",
              "      <td>142663.18</td>\n",
              "      <td>2.107988e+09</td>\n",
              "      <td>15584.53</td>\n",
              "    </tr>\n",
              "  </tbody>\n",
              "</table>\n",
              "<p>1181 rows × 6 columns</p>\n",
              "</div>"
            ],
            "text/plain": [
              "                high       low      open  volumefrom      volumeto     close\n",
              "time                                                                        \n",
              "2017-08-13   4267.46   3906.60   3871.50      807.25  3.292236e+06   4078.33\n",
              "2017-08-14   4480.13   4239.20   4078.33      888.18  3.783654e+06   4260.01\n",
              "2017-08-15   4347.69   3928.81   4260.01      945.51  3.900897e+06   4125.71\n",
              "2017-08-16   4396.62   4081.68   4125.71      682.27  2.980014e+06   4367.79\n",
              "2017-08-17   4473.83   4212.32   4367.79      837.26  3.698963e+06   4417.94\n",
              "...              ...       ...       ...         ...           ...       ...\n",
              "2020-11-01  13875.68  13604.73  13779.68   136817.39  1.878636e+09  13740.64\n",
              "2020-11-02  13810.59  13192.52  13740.64   178659.61  2.417876e+09  13548.77\n",
              "2020-11-03  14051.42  13285.93  13548.77    99169.42  1.349849e+09  14008.25\n",
              "2020-11-04  14241.65  13527.65  14008.25   113662.16  1.577900e+09  14130.56\n",
              "2020-11-05  15726.03  14089.96  14130.56   142663.18  2.107988e+09  15584.53\n",
              "\n",
              "[1181 rows x 6 columns]"
            ]
          },
          "metadata": {
            "tags": []
          },
          "execution_count": 196
        }
      ]
    },
    {
      "cell_type": "code",
      "metadata": {
        "id": "2aqPM4t7s0A5"
      },
      "source": [
        "#move close price one step ahead 。 no use. 别人做了.\n",
        "# price = hist.iat[-1,-1]\n",
        "# print(price)\n",
        "# hist['close'] = hist['close'].shift(-1)\n",
        "# hist.iloc[-1,-1] = price\n",
        "# hist"
      ],
      "execution_count": null,
      "outputs": []
    },
    {
      "cell_type": "code",
      "metadata": {
        "trusted": true,
        "id": "0Ykh8CHfpskJ"
      },
      "source": [
        "def train_test_split(df, test_size=0.2):\n",
        "    split_row = len(df) - int(test_size * len(df))\n",
        "    train_data = df.iloc[:split_row]\n",
        "    test_data = df.iloc[split_row:]\n",
        "    return train_data, test_data"
      ],
      "execution_count": null,
      "outputs": []
    },
    {
      "cell_type": "code",
      "metadata": {
        "trusted": true,
        "id": "PWKGJlxIpskM"
      },
      "source": [
        "train, test = train_test_split(hist, test_size=0.2)"
      ],
      "execution_count": null,
      "outputs": []
    },
    {
      "cell_type": "code",
      "metadata": {
        "trusted": true,
        "id": "jqfrJbQhpskP"
      },
      "source": [
        "def line_plot(line1, line2, label1=None, label2=None, title='', lw=2):\n",
        "    fig, ax = plt.subplots(1, figsize=(13, 7))\n",
        "    ax.plot(line1, label=label1, linewidth=lw)\n",
        "    ax.plot(line2, label=label2, linewidth=lw)\n",
        "    ax.set_ylabel('price [USDT]', fontsize=14)\n",
        "    ax.set_title(title, fontsize=16)\n",
        "    ax.legend(loc='best', fontsize=16);"
      ],
      "execution_count": null,
      "outputs": []
    },
    {
      "cell_type": "code",
      "metadata": {
        "trusted": true,
        "id": "9F_YTCCxpskS",
        "colab": {
          "base_uri": "https://localhost:8080/",
          "height": 428
        },
        "outputId": "f682dce9-8d0c-45ac-8700-fb7f4a39bfd0"
      },
      "source": [
        "line_plot(train[target_col], test[target_col], 'training', 'test', title='')"
      ],
      "execution_count": null,
      "outputs": [
        {
          "output_type": "display_data",
          "data": {
            "image/png": "[encoded data removed]",
            "text/plain": [
              "<Figure size 936x504 with 1 Axes>"
            ]
          },
          "metadata": {
            "tags": [],
            "needs_background": "light"
          }
        }
      ]
    },
    {
      "cell_type": "code",
      "metadata": {
        "trusted": true,
        "id": "iy-je3_bpskb"
      },
      "source": [
        "def normalise_zero_base(df):\n",
        "    # print(type(df.iloc[0]), df.iloc[0])\n",
        "    return df / df.iloc[0] - 1\n",
        "\n",
        "def normalise_min_max(df):\n",
        "    return (df - df.min()) / (data.max() - df.min())"
      ],
      "execution_count": null,
      "outputs": []
    },
    {
      "cell_type": "code",
      "metadata": {
        "trusted": true,
        "id": "zteL5amIpskh"
      },
      "source": [
        "def extract_window_data(df, window_len=5, zero_base=True):\n",
        "    window_data = []\n",
        "    for idx in range(len(df) - window_len):\n",
        "        tmp = df[idx: (idx + window_len)].copy()\n",
        "        # print(tmp., tmp.shape)\n",
        "        if zero_base:\n",
        "            tmp = normalise_zero_base(tmp)\n",
        "        window_data.append(tmp.values)\n",
        "        # print(len(tmp.values))\n",
        "    return np.array(window_data)"
      ],
      "execution_count": null,
      "outputs": []
    },
    {
      "cell_type": "code",
      "metadata": {
        "trusted": true,
        "id": "aTBbhnezpskk"
      },
      "source": [
        "def prepare_data(df, target_col, window_len=10, zero_base=True, test_size=0.2):\n",
        "    train_data, test_data = train_test_split(df, test_size=test_size)\n",
        "    print(\"train_data\", train_data.shape[0])\n",
        "    X_train = extract_window_data(train_data, window_len, zero_base)\n",
        "    X_test = extract_window_data(test_data, window_len, zero_base)\n",
        "    y_train = train_data[target_col][window_len:].values\n",
        "    y_test = test_data[target_col][window_len:].values\n",
        "    if zero_base:\n",
        "        # print(type(y_train), type(train_data[target_col][:-window_len].values))\n",
        "        y_train = y_train / train_data[target_col][:-window_len].values - 1\n",
        "        y_test = y_test / test_data[target_col][:-window_len].values - 1\n",
        "\n",
        "    return train_data, test_data, X_train, X_test, y_train, y_test"
      ],
      "execution_count": null,
      "outputs": []
    },
    {
      "cell_type": "code",
      "metadata": {
        "trusted": true,
        "id": "VjWtS2qJpskn"
      },
      "source": [
        "def build_lstm_model(input_data, output_size, neurons=100, activ_func='linear',\n",
        "                     dropout=0.2, loss='mse', optimizer='adam'):\n",
        "    model = Sequential()\n",
        "    model.add(LSTM(neurons, input_shape=(input_data.shape[1], input_data.shape[2])))\n",
        "    model.add(Dropout(dropout))\n",
        "    model.add(Dense(units=output_size))\n",
        "    model.add(Activation(activ_func))\n",
        "\n",
        "    model.compile(loss=loss, optimizer=optimizer)\n",
        "    return model"
      ],
      "execution_count": null,
      "outputs": []
    },
    {
      "cell_type": "code",
      "metadata": {
        "trusted": true,
        "id": "aADcao3Qpskq"
      },
      "source": [
        "np.random.seed(42)\n",
        "window_len = 4\n",
        "test_size = 0.2\n",
        "zero_base = True\n",
        "lstm_neurons = 100\n",
        "epochs = 20\n",
        "batch_size = 32\n",
        "loss = 'mse'\n",
        "dropout = 0.2\n",
        "optimizer = 'adam'"
      ],
      "execution_count": null,
      "outputs": []
    },
    {
      "cell_type": "code",
      "metadata": {
        "trusted": true,
        "id": "rAw5VBtwpskt",
        "colab": {
          "base_uri": "https://localhost:8080/"
        },
        "outputId": "f9d58e9d-8c9b-4523-f164-0688cc158386"
      },
      "source": [
        "train, test, X_train, X_test, y_train, y_test = prepare_data(hist, target_col, window_len=window_len, zero_base=zero_base, test_size=test_size)\n",
        "print(X_train.shape[0], y_train.shape[0])"
      ],
      "execution_count": null,
      "outputs": [
        {
          "output_type": "stream",
          "text": [
            "train_data 945\n",
            "941 941\n"
          ],
          "name": "stdout"
        }
      ]
    },
    {
      "cell_type": "code",
      "metadata": {
        "trusted": true,
        "id": "E5T9OAwQpskw",
        "colab": {
          "base_uri": "https://localhost:8080/"
        },
        "outputId": "5b253f23-bbbf-4bc2-82b1-e2a329acdf10"
      },
      "source": [
        "model = build_lstm_model(\n",
        "    X_train, output_size=1, neurons=lstm_neurons, dropout=dropout, loss=loss,\n",
        "    optimizer=optimizer)\n",
        "# print(X_train)\n",
        "# X_train = np.asarray(X_train).astype(np.float32)\n",
        "# y_train = np.asarray(y_train).astype(np.float32)\n",
        "history = model.fit(\n",
        "    X_train, y_train, epochs=epochs, batch_size=batch_size, verbose=1, shuffle=True)"
      ],
      "execution_count": null,
      "outputs": [
        {
          "output_type": "stream",
          "text": [
            "Epoch 1/20\n",
            "30/30 [==============================] - 0s 5ms/step - loss: 0.0107\n",
            "Epoch 2/20\n",
            "30/30 [==============================] - 0s 5ms/step - loss: 0.0049\n",
            "Epoch 3/20\n",
            "30/30 [==============================] - 0s 4ms/step - loss: 0.0045\n",
            "Epoch 4/20\n",
            "30/30 [==============================] - 0s 5ms/step - loss: 0.0050\n",
            "Epoch 5/20\n",
            "30/30 [==============================] - 0s 5ms/step - loss: 0.0032\n",
            "Epoch 6/20\n",
            "30/30 [==============================] - 0s 5ms/step - loss: 0.0029\n",
            "Epoch 7/20\n",
            "30/30 [==============================] - 0s 6ms/step - loss: 0.0030\n",
            "Epoch 8/20\n",
            "30/30 [==============================] - 0s 4ms/step - loss: 0.0030\n",
            "Epoch 9/20\n",
            "30/30 [==============================] - 0s 4ms/step - loss: 0.0025\n",
            "Epoch 10/20\n",
            "30/30 [==============================] - 0s 4ms/step - loss: 0.0026\n",
            "Epoch 11/20\n",
            "30/30 [==============================] - 0s 4ms/step - loss: 0.0026\n",
            "Epoch 12/20\n",
            "30/30 [==============================] - 0s 4ms/step - loss: 0.0025\n",
            "Epoch 13/20\n",
            "30/30 [==============================] - 0s 4ms/step - loss: 0.0026\n",
            "Epoch 14/20\n",
            "30/30 [==============================] - 0s 4ms/step - loss: 0.0023\n",
            "Epoch 15/20\n",
            "30/30 [==============================] - 0s 4ms/step - loss: 0.0028\n",
            "Epoch 16/20\n",
            "30/30 [==============================] - 0s 4ms/step - loss: 0.0025\n",
            "Epoch 17/20\n",
            "30/30 [==============================] - 0s 4ms/step - loss: 0.0029\n",
            "Epoch 18/20\n",
            "30/30 [==============================] - 0s 4ms/step - loss: 0.0023\n",
            "Epoch 19/20\n",
            "30/30 [==============================] - 0s 4ms/step - loss: 0.0022\n",
            "Epoch 20/20\n",
            "30/30 [==============================] - 0s 4ms/step - loss: 0.0024\n"
          ],
          "name": "stdout"
        }
      ]
    },
    {
      "cell_type": "code",
      "metadata": {
        "trusted": true,
        "id": "mS6SPIGNpskz",
        "colab": {
          "base_uri": "https://localhost:8080/"
        },
        "outputId": "ad82d742-4eb2-4134-b089-a7c73053eaf0"
      },
      "source": [
        "targets = test[target_col][window_len:]\n",
        "preds = model.predict(X_test).squeeze()\n",
        "mean_absolute_error(preds, y_test)"
      ],
      "execution_count": null,
      "outputs": [
        {
          "output_type": "stream",
          "text": [
            "WARNING:tensorflow:7 out of the last 13 calls to <function Model.make_predict_function.<locals>.predict_function at 0x7f98bf46ab70> triggered tf.function retracing. Tracing is expensive and the excessive number of tracings could be due to (1) creating @tf.function repeatedly in a loop, (2) passing tensors with different shapes, (3) passing Python objects instead of tensors. For (1), please define your @tf.function outside of the loop. For (2), @tf.function has experimental_relax_shapes=True option that relaxes argument shapes that can avoid unnecessary retracing. For (3), please refer to https://www.tensorflow.org/tutorials/customization/performance#python_or_tensor_args and https://www.tensorflow.org/api_docs/python/tf/function for  more details.\n"
          ],
          "name": "stdout"
        },
        {
          "output_type": "execute_result",
          "data": {
            "text/plain": [
              "0.023238932691790896"
            ]
          },
          "metadata": {
            "tags": []
          },
          "execution_count": 209
        }
      ]
    },
    {
      "cell_type": "code",
      "metadata": {
        "trusted": true,
        "id": "4jU0wERepsk2",
        "colab": {
          "base_uri": "https://localhost:8080/",
          "height": 429
        },
        "outputId": "bc4130bc-9bb8-468a-8864-1776ae878798"
      },
      "source": [
        "preds = test[target_col].values[:-window_len] * (preds + 1)\n",
        "#这里不对, 预测出来的数据是第二天值，不是当天的值。应该往前移动一个格子.\n",
        "preds = pd.Series(index=targets.index, data=preds)\n",
        "line_plot(targets, preds, 'actual', 'prediction', lw=3)\n"
      ],
      "execution_count": null,
      "outputs": [
        {
          "output_type": "display_data",
          "data": {
            "image/png": "[encoded data removed]",
            "text/plain": [
              "<Figure size 936x504 with 1 Axes>"
            ]
          },
          "metadata": {
            "tags": [],
            "needs_background": "light"
          }
        }
      ]
    },
    {
      "cell_type": "code",
      "metadata": {
        "colab": {
          "base_uri": "https://localhost:8080/"
        },
        "id": "QAqMijdEzttn",
        "outputId": "52a7bd9f-1a83-4407-8783-3d5bbd07afd8"
      },
      "source": [
        "preds"
      ],
      "execution_count": null,
      "outputs": [
        {
          "output_type": "execute_result",
          "data": {
            "text/plain": [
              "time\n",
              "2020-03-19     5227.023429\n",
              "2020-03-20     6141.546077\n",
              "2020-03-21     6318.414809\n",
              "2020-03-22     6187.811087\n",
              "2020-03-23     5869.991788\n",
              "                  ...     \n",
              "2020-11-01    13690.781120\n",
              "2020-11-02    13668.046386\n",
              "2020-11-03    13491.106619\n",
              "2020-11-04    13755.775105\n",
              "2020-11-05    13987.345891\n",
              "Length: 232, dtype: float64"
            ]
          },
          "metadata": {
            "tags": []
          },
          "execution_count": 211
        }
      ]
    },
    {
      "cell_type": "code",
      "metadata": {
        "colab": {
          "base_uri": "https://localhost:8080/",
          "height": 349
        },
        "id": "jWFQMpQrztxA",
        "outputId": "232e1f84-5280-4449-accc-3f5a80adb806"
      },
      "source": [
        "inc = 0\n",
        "dec = 0\n",
        "total_inc, total_dec = 0, 0\n",
        "for i in range(len(preds)-1):\n",
        "  if targets[i] < targets[i+1]:\n",
        "    total_inc += 1\n",
        "    if targets[i] < preds[i+1]:\n",
        "      inc += 1\n",
        "  elif targets[i] > targets[i+1]:\n",
        "    total_dec += 1\n",
        "    if targets[i] > preds[i+1]:\n",
        "      dec += 1\n",
        "rate = (inc + dec) / len(preds)\n",
        "print(\"总天数\", len(preds))\n",
        "print(\"预测上升正确的天数\",inc, \"上升正确比率\", inc/total_inc)\n",
        "print(\"预测下降正确的天数\",dec, \"下降正确比率\", dec/total_dec)\n",
        "print(\"预测正确总比率\", rate)\n",
        "\n",
        "def Compare(pred, actual, title):\n",
        "  name_list = ['increase','decrease']\n",
        "  num_list = pred\n",
        "  num_list1 = actual\n",
        "  x =list(range(len(num_list)))\n",
        "  total_width, n = 0.8, 2\n",
        "  width = total_width / n\n",
        "  \n",
        "  plt.bar(x, num_list, width=width, label='prediction',fc = 'g')\n",
        "  for i in range(len(x)):\n",
        "      x[i] = x[i] + width\n",
        "  plt.bar(x, num_list1, width=width, label='actual',tick_label = name_list,fc = 'b')\n",
        "  plt.legend()\n",
        "  plt.title(title)\n",
        "  plt.ylabel(\"Days\")\n",
        "  plt.show()\n",
        "Compare([inc, dec],[total_inc, total_dec], \"Comparison of predicted and actual inc/dec days\")"
      ],
      "execution_count": null,
      "outputs": [
        {
          "output_type": "stream",
          "text": [
            "总天数 232\n",
            "预测上升正确的天数 29 上升正确比率 0.21804511278195488\n",
            "预测下降正确的天数 88 下降正确比率 0.8979591836734694\n",
            "预测正确总比率 0.5043103448275862\n"
          ],
          "name": "stdout"
        },
        {
          "output_type": "display_data",
          "data": {
            "image/png": "[encoded data removed]",
            "text/plain": [
              "<Figure size 432x288 with 1 Axes>"
            ]
          },
          "metadata": {
            "tags": [],
            "needs_background": "light"
          }
        }
      ]
    },
    {
      "cell_type": "code",
      "metadata": {
        "colab": {
          "base_uri": "https://localhost:8080/",
          "height": 335
        },
        "id": "znQRSsS2xuXw",
        "outputId": "1e7931a2-f18a-4b50-9d4e-2a24ff341845"
      },
      "source": [
        "#做多-计算利润,限定每天买入金额。\n",
        "money = 0\n",
        "buy_per_day = 100\n",
        "bought_volume = 0\n",
        "fee = 0\n",
        "for i in range(len(preds)-1):\n",
        "  \n",
        "  if targets[i] < preds[i+1]:\n",
        "    if bought_volume > 0:\n",
        "      #预测上涨且有股票，继续持有\n",
        "      pass\n",
        "    else:\n",
        "      bought_volume = buy_per_day / targets[i]\n",
        "      money -= buy_per_day\n",
        "      fee += buy_per_day * 0.002\n",
        "      \n",
        "  else:\n",
        "    if bought_volume > 0:\n",
        "      money += targets[i] * bought_volume\n",
        "      bought_volume = 0\n",
        "      fee += targets[i] * bought_volume * 0.002\n",
        "    else:\n",
        "      #预测下跌且无股票，则不操作。\n",
        "      pass\n",
        "\n",
        "money = money + bought_volume * targets[-1]\n",
        "print(\"days\", len(preds))\n",
        "print(\"benifits\", money)\n",
        "print(\"benifits rate\", money/buy_per_day)\n",
        "print(\"benifits rate/year\", money/buy_per_day * 365 / len(preds))\n",
        "print(\"fee\", fee)\n",
        "print(\"pure benifits rate/year\", (money-fee)/buy_per_day * 365 / len(preds))\n",
        "\n",
        "name_list = ['0.01','0.1',\"1\",\"10\",\"100\"]\n",
        "num_list = Eval_linear\n",
        "plt.bar(range(len(num_list)), num_list,color='r', tick_label=name_list)\n",
        "plt.ylabel(\"Eval\")\n",
        "plt.xlabel(\"C\")\n",
        "plt.title(\"Linear Kernel\")\n",
        "plt.show()"
      ],
      "execution_count": null,
      "outputs": [
        {
          "output_type": "stream",
          "text": [
            "days 232\n",
            "benifits 38.11957327690544\n",
            "benifits rate 0.38119573276905444\n",
            "benifits rate/year 0.5997260450892451\n",
            "fee 7.200000000000004\n",
            "pure benifits rate/year 0.4864501830202795\n"
          ],
          "name": "stdout"
        },
        {
          "output_type": "error",
          "ename": "NameError",
          "evalue": "ignored",
          "traceback": [
            "\u001b[0;31m---------------------------------------------------------------------------\u001b[0m",
            "\u001b[0;31mNameError\u001b[0m                                 Traceback (most recent call last)",
            "\u001b[0;32m<ipython-input-213-fb5fbe6163b5>\u001b[0m in \u001b[0;36m<module>\u001b[0;34m()\u001b[0m\n\u001b[1;32m     33\u001b[0m \u001b[0;34m\u001b[0m\u001b[0m\n\u001b[1;32m     34\u001b[0m \u001b[0mname_list\u001b[0m \u001b[0;34m=\u001b[0m \u001b[0;34m[\u001b[0m\u001b[0;34m'0.01'\u001b[0m\u001b[0;34m,\u001b[0m\u001b[0;34m'0.1'\u001b[0m\u001b[0;34m,\u001b[0m\u001b[0;34m\"1\"\u001b[0m\u001b[0;34m,\u001b[0m\u001b[0;34m\"10\"\u001b[0m\u001b[0;34m,\u001b[0m\u001b[0;34m\"100\"\u001b[0m\u001b[0;34m]\u001b[0m\u001b[0;34m\u001b[0m\u001b[0;34m\u001b[0m\u001b[0m\n\u001b[0;32m---> 35\u001b[0;31m \u001b[0mnum_list\u001b[0m \u001b[0;34m=\u001b[0m \u001b[0mEval_linear\u001b[0m\u001b[0;34m\u001b[0m\u001b[0;34m\u001b[0m\u001b[0m\n\u001b[0m\u001b[1;32m     36\u001b[0m \u001b[0mplt\u001b[0m\u001b[0;34m.\u001b[0m\u001b[0mbar\u001b[0m\u001b[0;34m(\u001b[0m\u001b[0mrange\u001b[0m\u001b[0;34m(\u001b[0m\u001b[0mlen\u001b[0m\u001b[0;34m(\u001b[0m\u001b[0mnum_list\u001b[0m\u001b[0;34m)\u001b[0m\u001b[0;34m)\u001b[0m\u001b[0;34m,\u001b[0m \u001b[0mnum_list\u001b[0m\u001b[0;34m,\u001b[0m\u001b[0mcolor\u001b[0m\u001b[0;34m=\u001b[0m\u001b[0;34m'r'\u001b[0m\u001b[0;34m,\u001b[0m \u001b[0mtick_label\u001b[0m\u001b[0;34m=\u001b[0m\u001b[0mname_list\u001b[0m\u001b[0;34m)\u001b[0m\u001b[0;34m\u001b[0m\u001b[0;34m\u001b[0m\u001b[0m\n\u001b[1;32m     37\u001b[0m \u001b[0mplt\u001b[0m\u001b[0;34m.\u001b[0m\u001b[0mylabel\u001b[0m\u001b[0;34m(\u001b[0m\u001b[0;34m\"Eval\"\u001b[0m\u001b[0;34m)\u001b[0m\u001b[0;34m\u001b[0m\u001b[0;34m\u001b[0m\u001b[0m\n",
            "\u001b[0;31mNameError\u001b[0m: name 'Eval_linear' is not defined"
          ]
        }
      ]
    },
    {
      "cell_type": "code",
      "metadata": {
        "id": "Ki8rG2l_qnZn"
      },
      "source": [
        "#做空-计算利润,限定每天买入金额。\n",
        "money = 0\n",
        "borrow_per_day = 100\n",
        "borrow_volume = 0\n",
        "fee = 0\n",
        "for i in range(len(preds)-1):\n",
        "  \n",
        "  if targets[i] < preds[i+1]:\n",
        "    if borrow_volume > 0:\n",
        "      #预测上涨且有借BTC，则还BTC\n",
        "      money -= borrow_volume * targets[i]\n",
        "      fee = borrow_volume * targets[i] * 0.002\n",
        "      borrow_volume = 0\n",
        "    else:\n",
        "      #预测上涨且没有借BTC，则无操作\n",
        "      pass\n",
        "  else:\n",
        "    if borrow_volume > 0:\n",
        "      #预测下降且有借BTC，无操作\n",
        "      pass\n",
        "    else:\n",
        "      #预测下跌且没有借BTC，则借BTC\n",
        "      borrow_volume = borrow_per_day / targets[i]\n",
        "      money += borrow_per_day\n",
        "      fee = borrow_per_day * 0.02\n",
        "      pass\n",
        "\n",
        "money = money - borrow_volume * targets[-1]\n",
        "print(\"days\", len(preds))\n",
        "print(\"benifits\", money)\n",
        "print(\"benifits rate\", money/buy_per_day)\n",
        "print(\"benifits rate/year\", money/buy_per_day * 365 / len(preds))\n",
        "print(\"fee\", fee)\n",
        "print(\"pure benifits rate/year\", (money-fee)/buy_per_day * 365 / len(preds))"
      ],
      "execution_count": null,
      "outputs": []
    },
    {
      "cell_type": "code",
      "metadata": {
        "id": "u5GewA9R2IBq"
      },
      "source": [
        "#预测后面一天的值\n",
        "import time\n",
        "import datetime\n",
        "\n",
        "X = hist[-window_len:]\n",
        "if zero_base:\n",
        "  X = normalise_zero_base(X)\n",
        "X = [X.values]\n",
        "X = np.array(X)\n",
        "pred = model.predict(X).squeeze()\n",
        "pred = hist[target_col][-window_len] * (pred+1)\n",
        "\n",
        "today = datetime.date.today()\n",
        "tomorrow = today + datetime.timedelta(days=1)\n",
        "print(tomorrow, pred)\n"
      ],
      "execution_count": null,
      "outputs": []
    },
    {
      "cell_type": "code",
      "metadata": {
        "id": "IQ9V_OjLxZ3G"
      },
      "source": [
        "#!!! 有问题,用前面5个x预测后面一个y值。应该会少一个值。\n",
        "\n",
        "#11.19->17989.083192\n",
        "#11-20->18104.412399\n",
        "#2020-11-22->18692.975356\n",
        "#2020-11-23->18728.463033"
      ],
      "execution_count": null,
      "outputs": []
    },
    {
      "cell_type": "code",
      "metadata": {
        "id": "pNP-lNqoY2Bb"
      },
      "source": [
        "#用过去的数据预测后一天的偏差。 这个没有意义。\n",
        "# N = X_train.shape[0]\n",
        "# for i in range(N-1,N):\n",
        "#   history = model.fit(\n",
        "#       X_train[0:i], y_train[0:i], epochs=epochs, batch_size=batch_size, verbose=0, shuffle=True)\n",
        "#   targets = train[target_col][window_len+i:i+window_len+1]\n",
        "#   preds = model.predict(X_train[i:i+1]).squeeze()\n",
        "  \n",
        "#   preds = train[target_col].values[i-window_len:i-window_len+1] * (preds + 1)\n",
        "#   # print(len(targets), len(preds))\n",
        "#   preds = pd.Series(index=targets.index, data=preds)\n",
        "#   # line_plot(targets, preds, 'actual', 'prediction', lw=3)\n",
        "#   print(i, preds, targets.squeeze())"
      ],
      "execution_count": null,
      "outputs": []
    }
  ]
}